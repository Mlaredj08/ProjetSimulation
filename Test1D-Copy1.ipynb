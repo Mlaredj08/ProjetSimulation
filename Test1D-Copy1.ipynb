{
 "cells": [
  {
   "cell_type": "code",
   "execution_count": null,
   "metadata": {},
   "outputs": [],
   "source": [
    "#Version du code en 1D basée sur la référence SchrodingerDynamics-1.pdf"
   ]
  },
  {
   "cell_type": "code",
   "execution_count": 88,
   "metadata": {},
   "outputs": [],
   "source": [
    "import numpy as np\n",
    "from matplotlib import pyplot as plt\n",
    "from scipy.sparse import diags"
   ]
  },
  {
   "cell_type": "code",
   "execution_count": 94,
   "metadata": {},
   "outputs": [],
   "source": [
    "#Valeurs importantes de la fonction Psi_0\n",
    "\n",
    "x0 = 5\n",
    "sigma = 0.1                     #Largeur du packet d'onde\n",
    "k = 20                          #Nombre d'onde, soit 2 pi / longuer d'onde = 2 pi fréquence / vitesse\n",
    "V = 0                           #Potentielle\n",
    "mu = (np.pi*(w ** 2)) ** (-1/4)     #Norme de Psi à t=0\n",
    "\n",
    "#Définition de l'intervale de propagation et du pas dx\n",
    "\n",
    "dx = 0.01\n",
    "x = np.arange(0, 10, dx)"
   ]
  },
  {
   "cell_type": "code",
   "execution_count": 97,
   "metadata": {},
   "outputs": [],
   "source": [
    "#Définition de Psi_0 en 1D\n",
    "\n",
    "Psi0 = []\n",
    "for i in x:\n",
    "    Psi0.append(mu*np.exp((-1/2)*((i-x0)/sigma) ** 2)*np.exp(1j*k*i))\n",
    "\n",
    "B=[]\n",
    "for j in range(0,len(Psi0)):\n",
    "    B.append(np.sqrt(Psi0[j]*np.conj(Psi0[j])))"
   ]
  },
  {
   "cell_type": "code",
   "execution_count": 98,
   "metadata": {},
   "outputs": [
    {
     "data": {
      "image/png": "[encoded data removed]",
      "text/plain": [
       "<Figure size 432x288 with 1 Axes>"
      ]
     },
     "metadata": {
      "needs_background": "light"
     },
     "output_type": "display_data"
    }
   ],
   "source": [
    "#Premier point de vue avec un graph 3D\n",
    "\n",
    "plt.plot(x, np.sqrt(B).real)\n",
    "plt.show()"
   ]
  },
  {
   "cell_type": "code",
   "execution_count": 99,
   "metadata": {},
   "outputs": [],
   "source": [
    "#Définition des paramètres de résolution Crank-Nicholson (Diapos du cours)\n",
    "\n",
    "#On établit le context de l'équation de Schrödinger avec un potent V(r) = 0, de sorte que d Psi/dt = D d^2 Psi/dx^2 avec D = i * hbar / 2 * m_e\n",
    "\n",
    "D = 1j/2                                # m^2 / s, ou J s / kg,\n",
    "\n",
    "dt = 0.0001   # 2D dt/ (dx^2) <= 1 le critère de stabilité, toujours respecté puisque D est complex. On peut choisir \n",
    "                                        # un dt quelconque. Ici, 2D dt / dx^2 = 1/2\n",
    "    \n",
    "alpha = 1 + D*dt/(dx ** 2)\n",
    "\n",
    "beta = -1*D*dt/(2 * dx ** 2)\n",
    "\n",
    "gamma = 1 - D*dt/(dx ** 2)\n",
    "\n",
    "M = 150 #Nombre d'itérations"
   ]
  },
  {
   "cell_type": "code",
   "execution_count": 100,
   "metadata": {},
   "outputs": [],
   "source": [
    "#Matrices de résolutions\n",
    "\n",
    "A1 = diags([beta, alpha, beta], [-1,0,1], shape=(len(Psi0), len(Psi0))).toarray()   #Matrice tri-diagonale\n",
    "Psi = Psi0\n",
    "\n",
    "for l in range(0,M):                                                           #Initialisation du vecteur de seconde dérivée spatiale\n",
    "    PsiX = [-2*beta*Psi[0] + gamma*Psi[1] - beta*Psi[2]]\n",
    "    for i in range(1, len(Psi)-1):                                              #Toutes autres valeurs de la dérivée seconde spatiale sauf la dernière\n",
    "        PsiX.append(-1*beta*(Psi[i-1]+Psi[i+1]) + gamma*Psi[i])\n",
    "    PsiX.append(-2*beta*Psi[len(Psi)-1] + gamma*Psi[len(Psi)-2] - beta*Psi[len(Psi)-3])      #Dernière ligne du vecteur de seconde dérivée spatiale\n",
    "    Psi = np.linalg.solve(A1,PsiX)                                              #Calcule de la fonction Psi au temps 0 + l*dt   "
   ]
  },
  {
   "cell_type": "code",
   "execution_count": 101,
   "metadata": {},
   "outputs": [],
   "source": [
    "#Fonction de probabilité de présence selon la méthode Crank-Nicholson\n",
    "C=[]\n",
    "for m in range(0,len(Psi)):\n",
    "    C.append(Psi[m]*np.conj(Psi[m]))"
   ]
  },
  {
   "cell_type": "code",
   "execution_count": 102,
   "metadata": {},
   "outputs": [],
   "source": [
    "#Solution analytique selon la référence [http://www.m-hikari.com/astp/astp2013/astp5-8-2013/zeccaASTP5-8-2013.pdf]\n",
    "\n",
    "a = np.sqrt(sigma**2 - 1j*M*dt) #Constant importante en fonction de sigma et de t\n",
    "\n",
    "E=[]\n",
    "for n in x:\n",
    "    E.append(((a/(np.sqrt(np.pi)*(1+1j*M*dt*a**2)))**(1/2))*np.exp((-1*(a ** 2)/(2*(1+1j*M*dt*a**2)))*((n-(r0+ k*M*dt))/w)**2)*np.exp(1j*k*n))\n",
    "\n",
    "F=[]\n",
    "for p in range(0,len(E)):\n",
    "    F.append(np.sqrt(E[p]*np.conj(E[p])))"
   ]
  },
  {
   "cell_type": "code",
   "execution_count": 103,
   "metadata": {},
   "outputs": [
    {
     "data": {
      "image/png": "[encoded data removed]",
      "text/plain": [
       "<Figure size 432x288 with 1 Axes>"
      ]
     },
     "metadata": {
      "needs_background": "light"
     },
     "output_type": "display_data"
    }
   ],
   "source": [
    "#Comparaison solution de la méthode (bleu) avec la solution analytique (orange)\n",
    "\n",
    "plt.plot(x, np.sqrt(C).real, x, np.sqrt(F).real)\n",
    "plt.show()"
   ]
  },
  {
   "cell_type": "code",
   "execution_count": null,
   "metadata": {},
   "outputs": [],
   "source": []
  },
  {
   "cell_type": "code",
   "execution_count": null,
   "metadata": {},
   "outputs": [],
   "source": []
  }
 ],
 "metadata": {
  "kernelspec": {
   "display_name": "Python 3",
   "language": "python",
   "name": "python3"
  },
  "language_info": {
   "codemirror_mode": {
    "name": "ipython",
    "version": 3
   },
   "file_extension": ".py",
   "mimetype": "text/x-python",
   "name": "python",
   "nbconvert_exporter": "python",
   "pygments_lexer": "ipython3",
   "version": "3.8.5"
  }
 },
 "nbformat": 4,
 "nbformat_minor": 4
}
